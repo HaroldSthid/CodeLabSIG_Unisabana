{
  "nbformat": 4,
  "nbformat_minor": 0,
  "metadata": {
    "colab": {
      "provenance": [],
      "authorship_tag": "ABX9TyNYXjbDo+fjLoXL36dT56+S",
      "include_colab_link": true
    },
    "kernelspec": {
      "name": "python3",
      "display_name": "Python 3"
    },
    "language_info": {
      "name": "python"
    }
  },
  "cells": [
    {
      "cell_type": "markdown",
      "metadata": {
        "id": "view-in-github",
        "colab_type": "text"
      },
      "source": [
        "<a href=\"https://colab.research.google.com/github/HaroldSthid/CodeLabSIG_Unisabana/blob/main/HarPir_Tlv2.ipynb\" target=\"_parent\"><img src=\"https://colab.research.google.com/assets/colab-badge.svg\" alt=\"Open In Colab\"/></a>"
      ]
    },
    {
      "cell_type": "markdown",
      "source": [
        "#Pixel_Programing"
      ],
      "metadata": {
        "id": "mcHbUUdX58ko"
      }
    },
    {
      "cell_type": "markdown",
      "source": [
        "#Step 1 Mapeo origen fuente de datos"
      ],
      "metadata": {
        "id": "DRSvcPUO6ELE"
      }
    },
    {
      "cell_type": "code",
      "execution_count": null,
      "metadata": {
        "id": "foIEGNLv51Xt"
      },
      "outputs": [],
      "source": [
        "from google.colab import drive\n",
        "drive.mount('/content/drive')"
      ]
    },
    {
      "cell_type": "markdown",
      "source": [
        "# Step 2 Importanto librerias\n",
        "\n",
        "Aquí, importamos Image de PIL para trabajar con la imagen, openpyxl para manipular archivos de Excel y PatternFill para aplicar colores a las celdas de Excel."
      ],
      "metadata": {
        "id": "ZnA6nBOE6LOj"
      }
    },
    {
      "cell_type": "code",
      "source": [
        "# Importar las bibliotecas necesarias\n",
        "from PIL import Image\n",
        "import openpyxl\n",
        "from openpyxl.styles import PatternFill"
      ],
      "metadata": {
        "id": "fG1LEk0l6Qly"
      },
      "execution_count": null,
      "outputs": []
    },
    {
      "cell_type": "markdown",
      "source": [
        "# Step 3 Funcion para procesar Imagen\n",
        "\n",
        "Esta línea define la función image_to_excel con tres argumentos: image_path (ruta de la imagen JPG), excel_path (ruta del archivo Excel a guardar) y scale (factor de escala para la imagen, por defecto es 1, es decir, sin cambio de escala)."
      ],
      "metadata": {
        "id": "qe-nvEOt6VYk"
      }
    },
    {
      "cell_type": "code",
      "source": [
        "# Función para procesar la imagen\n",
        "def procesar_imagen(ruta_imagen, tamano_maximo):\n",
        "    # Cargar la imagen y redimensionar si es necesario\n",
        "    with Image.open(ruta_imagen) as img:\n",
        "        img.thumbnail(tamano_maximo)  # Redimensionar la imagen\n",
        "        pixeles = list(img.getdata())  # Obtener los datos de los píxeles\n",
        "        ancho, alto = img.size         # Obtener las dimensiones de la imagen\n",
        "    return pixeles, ancho, alto       # Devolver los píxeles y dimensiones"
      ],
      "metadata": {
        "id": "AYL8LJ3k6dDn"
      },
      "execution_count": null,
      "outputs": []
    },
    {
      "cell_type": "code",
      "source": [
        "# Función para crear y llenar la hoja de Excel\n",
        "def crear_hoja_excel(pixeles, ancho, alto):\n",
        "    wb = openpyxl.Workbook()          # Crear un nuevo libro de trabajo\n",
        "    hoja = wb.active                  # Obtener la hoja activa\n",
        "\n",
        "    # Recorrer los píxeles y aplicar el color a cada celda\n",
        "    for y in range(alto):\n",
        "        for x in range(ancho):\n",
        "            color = pixeles[x + y * ancho]                       # Obtener el color RGB\n",
        "            color_hex = f\"{color[0]:02x}{color[1]:02x}{color[2]:02x}\"  # Convertir a hex\n",
        "            celda = hoja.cell(row=y + 1, column=x + 1)           # Obtener la celda\n",
        "            celda.fill = PatternFill(start_color=color_hex, end_color=color_hex, fill_type=\"solid\")\n",
        "\n",
        "    return wb  # Devolver el libro de trabajo\n",
        "\n",
        "# Función principal\n",
        "def main():\n",
        "    # Actualiza esta ruta a la ubicación de tu imagen en Google Drive\n",
        "    ruta_imagen = \"/content/drive/My Drive/UniversidaddelaSabana/Coding_Lab/Flash.jpg\"  # Ejemplo: \"/content/drive/My Drive/Images/mi_imagen.jpg\"\n",
        "    tamano_maximo = (50, 50)\n",
        "\n",
        "    pixeles, ancho, alto = procesar_imagen(ruta_imagen, tamano_maximo)\n",
        "    wb = crear_hoja_excel(pixeles, ancho, alto)\n",
        "\n",
        "    # Guardar el archivo de Excel en Google Drive\n",
        "    ruta_guardado = \"/content/drive/My Drive/UniversidaddelaSabana/Coding_Lab/Pixel_Flash_v1.xlsx\"  # Ejemplo: \"/content/drive/My Drive/ExcelFiles/imagen_excel.xlsx\"\n",
        "    wb.save(ruta_guardado)\n",
        "\n",
        "if __name__ == \"__main__\":\n",
        "    main()\n"
      ],
      "metadata": {
        "id": "XlT5zXZo6hug"
      },
      "execution_count": null,
      "outputs": []
    }
  ]
}